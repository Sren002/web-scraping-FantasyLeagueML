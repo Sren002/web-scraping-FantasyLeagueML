{
 "cells": [
  {
   "cell_type": "code",
   "execution_count": 1,
   "id": "d65dcf0b-047b-424a-b1ba-deed3cd33950",
   "metadata": {
    "scrolled": true
   },
   "outputs": [
    {
     "name": "stdout",
     "output_type": "stream",
     "text": [
      "         Date   Time            Comp         Round  Day Venue Result  GF  GA  \\\n",
      "1  2023-08-11  20:00  Premier League   Matchweek 1  Fri  Away      W   3   0   \n",
      "3  2023-08-19  20:00  Premier League   Matchweek 2  Sat  Home      W   1   0   \n",
      "4  2023-08-27  14:00  Premier League   Matchweek 3  Sun  Away      W   2   1   \n",
      "5  2023-09-02  15:00  Premier League   Matchweek 4  Sat  Home      W   5   1   \n",
      "6  2023-09-16  15:00  Premier League   Matchweek 5  Sat  Away      W   3   1   \n",
      "..        ...    ...             ...           ...  ...   ...    ...  ..  ..   \n",
      "38 2020-07-07  18:00  Premier League  Matchweek 34  Tue  Away      L   1   2   \n",
      "39 2020-07-11  12:30  Premier League  Matchweek 35  Sat  Home      L   0   4   \n",
      "40 2020-07-14  20:15  Premier League  Matchweek 36  Tue  Away      L   0   1   \n",
      "41 2020-07-18  17:30  Premier League  Matchweek 37  Sat  Home      L   0   2   \n",
      "42 2020-07-26  16:00  Premier League  Matchweek 38  Sun  Away      L   0   5   \n",
      "\n",
      "           Opponent  ...  Match Report  Notes    Sh   SoT  Dist   FK PK PKatt  \\\n",
      "1           Burnley  ...  Match Report    NaN  17.0   8.0  13.9  0.0  0     0   \n",
      "3     Newcastle Utd  ...  Match Report    NaN  14.0   4.0  17.9  0.0  0     0   \n",
      "4     Sheffield Utd  ...  Match Report    NaN  29.0   9.0  17.3  2.0  0     1   \n",
      "5            Fulham  ...  Match Report    NaN   6.0   4.0  14.8  0.0  1     1   \n",
      "6          West Ham  ...  Match Report    NaN  29.0  13.0  16.4  1.0  0     0   \n",
      "..              ...  ...           ...    ...   ...   ...   ...  ... ..   ...   \n",
      "38          Watford  ...  Match Report    NaN  12.0   3.0  16.9  1.0  0     0   \n",
      "39         West Ham  ...  Match Report    NaN  11.0   2.0  19.8  1.0  0     0   \n",
      "40          Chelsea  ...  Match Report    NaN   2.0   0.0  20.6  0.0  0     0   \n",
      "41          Burnley  ...  Match Report    NaN   6.0   2.0  13.4  0.0  0     0   \n",
      "42  Manchester City  ...  Match Report    NaN   5.0   4.0  19.8  0.0  0     0   \n",
      "\n",
      "   Season             Team  \n",
      "1    2024  Manchester City  \n",
      "3    2024  Manchester City  \n",
      "4    2024  Manchester City  \n",
      "5    2024  Manchester City  \n",
      "6    2024  Manchester City  \n",
      "..    ...              ...  \n",
      "38   2020     Norwich City  \n",
      "39   2020     Norwich City  \n",
      "40   2020     Norwich City  \n",
      "41   2020     Norwich City  \n",
      "42   2020     Norwich City  \n",
      "\n",
      "[3800 rows x 28 columns]\n"
     ]
    }
   ],
   "source": [
    "import pandas as pd\n",
    "\n",
    "df = pd.read_csv(\"matches.csv\", index_col=0)\n",
    "\n",
    "df[\"Date\"] = pd.to_datetime(df[\"Date\"])\n",
    "print(df)"
   ]
  },
  {
   "cell_type": "code",
   "execution_count": 2,
   "id": "45507993-9dea-4774-8eeb-75f737614017",
   "metadata": {},
   "outputs": [],
   "source": [
    "df[\"venue_code\"] = df[\"Venue\"].astype(\"category\").cat.codes\n",
    "df[\"opp_code\"] = df[\"Opponent\"].astype(\"category\").cat.codes\n",
    "df[\"hour\"] = df[\"Time\"].str.replace(\":.+\", \"\", regex=True).astype(\"int\")\n",
    "df[\"day_code\"] = df[\"Date\"].dt.dayofweek\n",
    "df[\"target\"] = (df[\"Result\"] == \"W\").astype(\"int\")"
   ]
  },
  {
   "cell_type": "code",
   "execution_count": 3,
   "id": "ad6d4120-9ea9-418c-9cdf-b603a91a02db",
   "metadata": {},
   "outputs": [],
   "source": [
    "from sklearn.ensemble import RandomForestClassifier\n",
    "\n",
    "rf = RandomForestClassifier(n_estimators = 50, min_samples_split = 10, random_state=1)\n",
    "train = df[df[\"Date\"] < \"2024-01-01\"]\n",
    "test = df[df[\"Date\"] > \"2024-01-01\"]\n",
    "predictors = [\"venue_code\", \"opp_code\", \"hour\", \"day_code\"]\n",
    "rf.fit(train[predictors], train[\"target\"])\n",
    "RandomForestClassifier(min_samples_split=10, n_estimators=50, random_state=1)\n",
    "preds = rf.predict(test[predictors])\n",
    "\n"
   ]
  },
  {
   "cell_type": "code",
   "execution_count": 4,
   "id": "2287184d-8191-4fcc-a3aa-777596b33050",
   "metadata": {},
   "outputs": [],
   "source": [
    "def rolling_averages(group, cols, new_cols):\n",
    "    group = group.sort_values(\"Date\")\n",
    "    rolling_stats = group[cols].rolling(3, closed=\"left\").mean()\n",
    "    group[new_cols] = rolling_stats\n",
    "    group = group.dropna(subset=new_cols)\n",
    "    return group"
   ]
  },
  {
   "cell_type": "code",
   "execution_count": 5,
   "id": "eb89a2f6-0660-4741-82a6-7f2c420f07d4",
   "metadata": {},
   "outputs": [],
   "source": [
    "cols = [\"GF\", \"GA\", \"Sh\", \"SoT\", \"Dist\", \"FK\", \"PK\", \"PKatt\"]\n",
    "new_cols = [f\"{c}_rolling\" for c in cols]"
   ]
  },
  {
   "cell_type": "code",
   "execution_count": 6,
   "id": "acaabda9-3b5b-4ebf-846e-578f62f3c1c3",
   "metadata": {},
   "outputs": [
    {
     "name": "stderr",
     "output_type": "stream",
     "text": [
      "C:\\Users\\sethr\\AppData\\Local\\Temp\\ipykernel_28776\\788425479.py:1: DeprecationWarning: DataFrameGroupBy.apply operated on the grouping columns. This behavior is deprecated, and in a future version of pandas the grouping columns will be excluded from the operation. Either pass `include_groups=False` to exclude the groupings or explicitly select the grouping columns after groupby to silence this warning.\n",
      "  df_rolling = df.groupby(\"Team\").apply(lambda x: rolling_averages(x, cols, new_cols))\n"
     ]
    }
   ],
   "source": [
    "df_rolling = df.groupby(\"Team\").apply(lambda x: rolling_averages(x, cols, new_cols))"
   ]
  },
  {
   "cell_type": "code",
   "execution_count": 7,
   "id": "1424231f-6a4a-465a-b186-5a2aeb707071",
   "metadata": {},
   "outputs": [],
   "source": [
    "df_rolling.index = range(df_rolling.shape[0])"
   ]
  },
  {
   "cell_type": "code",
   "execution_count": 8,
   "id": "8ac021c1-c745-450b-ab68-99a90bbe7042",
   "metadata": {},
   "outputs": [],
   "source": [
    "from sklearn.metrics import precision_score\n",
    "def make_predictions(df, predictors):\n",
    "    train = df[df[\"Date\"] < \"2024-01-01\"]\n",
    "    test = df[df[\"Date\"] > \"2024-01-01\"]\n",
    "    rf.fit(train[predictors], train[\"target\"])\n",
    "    preds = rf.predict(test[predictors])\n",
    "    combined = pd.DataFrame(dict(actual=test[\"target\"], predicted=preds), index=test.index)\n",
    "    precision = precision_score(test[\"target\"], preds)\n",
    "    return combined, precision"
   ]
  },
  {
   "cell_type": "code",
   "execution_count": 9,
   "id": "d9067a2e-ee5f-458f-8c3d-5d79798b1ce0",
   "metadata": {},
   "outputs": [],
   "source": [
    "combined, precision = make_predictions(df_rolling, predictors + new_cols)\n",
    "\n",
    "combined = combined.merge(df_rolling[[\"Date\", \"Team\", \"Opponent\", \"Result\"]], left_index=True, right_index=True)"
   ]
  },
  {
   "cell_type": "code",
   "execution_count": 10,
   "id": "7a7cdacf-1208-4783-a853-2bd5f62fdf75",
   "metadata": {},
   "outputs": [
    {
     "name": "stdout",
     "output_type": "stream",
     "text": [
      "     actual_x  predicted_x       Date                   Team_x  \\\n",
      "0           1            1 2024-01-20                  Arsenal   \n",
      "1           1            1 2024-01-30                  Arsenal   \n",
      "2           1            0 2024-02-04                  Arsenal   \n",
      "3           1            1 2024-02-11                  Arsenal   \n",
      "4           1            1 2024-02-17                  Arsenal   \n",
      "..        ...          ...        ...                      ...   \n",
      "325         0            0 2024-04-24  Wolverhampton Wanderers   \n",
      "326         1            0 2024-04-27  Wolverhampton Wanderers   \n",
      "327         0            0 2024-05-04  Wolverhampton Wanderers   \n",
      "328         0            0 2024-05-11  Wolverhampton Wanderers   \n",
      "329         0            0 2024-05-19  Wolverhampton Wanderers   \n",
      "\n",
      "          Opponent_x Result_x new_team_x  actual_y  predicted_y  \\\n",
      "0     Crystal Palace        W    Arsenal         0            0   \n",
      "1    Nott'ham Forest        W    Arsenal         0            0   \n",
      "2          Liverpool        W    Arsenal         0            1   \n",
      "3           West Ham        W    Arsenal         0            0   \n",
      "4            Burnley        W    Arsenal         0            0   \n",
      "..               ...      ...        ...       ...          ...   \n",
      "325      Bournemouth        L     Wolves         1            0   \n",
      "326       Luton Town        W     Wolves         0            0   \n",
      "327  Manchester City        L     Wolves         1            1   \n",
      "328   Crystal Palace        L     Wolves         1            0   \n",
      "329        Liverpool        L     Wolves         1            1   \n",
      "\n",
      "                Team_y Opponent_y Result_y         new_team_y  \n",
      "0       Crystal Palace    Arsenal        L     Crystal Palace  \n",
      "1    Nottingham Forest    Arsenal        L  Nottingham Forest  \n",
      "2            Liverpool    Arsenal        L          Liverpool  \n",
      "3      West Ham United    Arsenal        L           West Ham  \n",
      "4              Burnley    Arsenal        L            Burnley  \n",
      "..                 ...        ...      ...                ...  \n",
      "325        Bournemouth     Wolves        W        Bournemouth  \n",
      "326         Luton Town     Wolves        L         Luton Town  \n",
      "327    Manchester City     Wolves        W    Manchester City  \n",
      "328     Crystal Palace     Wolves        W     Crystal Palace  \n",
      "329          Liverpool     Wolves        W          Liverpool  \n",
      "\n",
      "[330 rows x 13 columns]\n"
     ]
    },
    {
     "data": {
      "text/plain": [
       "actual_x\n",
       "1    58\n",
       "0    45\n",
       "Name: count, dtype: int64"
      ]
     },
     "execution_count": 10,
     "metadata": {},
     "output_type": "execute_result"
    }
   ],
   "source": [
    "class MissingDict(dict):\n",
    "    __missing__ = lambda self, key: key\n",
    "\n",
    "map_values = {\"Brighton and Hove Albion\": \"Brighton\", \"Manchester United\": \"Manchester Utd\", \"Newcastle United\": \"Newcastle Utd\", \"Tottenham Hotspur\": \"Tottenham\", \"West Ham United\": \"West Ham\", \"Wolverhampton Wanderers\": \"Wolves\"} \n",
    "mapping = MissingDict(**map_values)\n",
    "combined[\"new_team\"] = combined[\"Team\"].map(mapping)\n",
    "merged = combined.merge(combined, left_on=[\"Date\", \"new_team\"], right_on=[\"Date\", \"Opponent\"])\n",
    "print(merged)\n",
    "merged[(merged[\"predicted_x\"] == 1) & (merged[\"predicted_y\"] == 0)][\"actual_x\"].value_counts()"
   ]
  }
 ],
 "metadata": {
  "kernelspec": {
   "display_name": "Python 3 (ipykernel)",
   "language": "python",
   "name": "python3"
  },
  "language_info": {
   "codemirror_mode": {
    "name": "ipython",
    "version": 3
   },
   "file_extension": ".py",
   "mimetype": "text/x-python",
   "name": "python",
   "nbconvert_exporter": "python",
   "pygments_lexer": "ipython3",
   "version": "3.10.11"
  }
 },
 "nbformat": 4,
 "nbformat_minor": 5
}
